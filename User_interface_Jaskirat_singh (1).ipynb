{
 "cells": [
  {
   "cell_type": "code",
   "execution_count": 2,
   "id": "e351bb7a",
   "metadata": {},
   "outputs": [
    {
     "data": {
      "application/vnd.jupyter.widget-view+json": {
       "model_id": "719cfd6805334705affd91eed12b2e95",
       "version_major": 2,
       "version_minor": 0
      },
      "text/plain": [
       "HTML(value='<style>\\n    .widget-label { \\n        font-size: 18px; \\n        font-weight: bold; \\n        col…"
      ]
     },
     "metadata": {},
     "output_type": "display_data"
    },
    {
     "data": {
      "application/vnd.jupyter.widget-view+json": {
       "model_id": "08ba8ad13b734edda191c5e26ee052d7",
       "version_major": 2,
       "version_minor": 0
      },
      "text/plain": [
       "Dropdown(description='Operation:', description_tooltip='Select a mathematical operation to perform', layout=La…"
      ]
     },
     "metadata": {},
     "output_type": "display_data"
    },
    {
     "data": {
      "application/vnd.jupyter.widget-view+json": {
       "model_id": "7880775e662c443cb2d7f90ad655ee66",
       "version_major": 2,
       "version_minor": 0
      },
      "text/plain": [
       "FloatText(value=0.0, description='Number 1:', description_tooltip='Enter the first number', layout=Layout(widt…"
      ]
     },
     "metadata": {},
     "output_type": "display_data"
    },
    {
     "data": {
      "application/vnd.jupyter.widget-view+json": {
       "model_id": "27b29d7d69d144398dbf3065e4638e53",
       "version_major": 2,
       "version_minor": 0
      },
      "text/plain": [
       "FloatText(value=0.0, description='Number 2:', description_tooltip='Enter the second number', layout=Layout(wid…"
      ]
     },
     "metadata": {},
     "output_type": "display_data"
    },
    {
     "data": {
      "application/vnd.jupyter.widget-view+json": {
       "model_id": "ab2cab768e994a7da68d82376bf6c5bf",
       "version_major": 2,
       "version_minor": 0
      },
      "text/plain": [
       "Button(button_style='info', description='Submit', layout=Layout(width='60%'), style=ButtonStyle(font_weight='b…"
      ]
     },
     "metadata": {},
     "output_type": "display_data"
    },
    {
     "data": {
      "application/vnd.jupyter.widget-view+json": {
       "model_id": "a83bf34ff887430baf2611447862eec7",
       "version_major": 2,
       "version_minor": 0
      },
      "text/plain": [
       "Output()"
      ]
     },
     "metadata": {},
     "output_type": "display_data"
    }
   ],
   "source": [
    "import rdflib\n",
    "import ipywidgets as widgets\n",
    "from IPython.display import display\n",
    "import math\n",
    "\n",
    "# Load the ontology file (.owl)\n",
    "ontology_file = r\"C:\\Users\\Jaskirat_singh\\Downloads\\Jaskirat_singh.owl\"  # Update the path to your ontology file\n",
    "g = rdflib.Graph()\n",
    "g.parse(ontology_file, format=\"xml\")\n",
    "\n",
    "# Define widgets for user input and display with more colorful styling\n",
    "operation_selector = widgets.Dropdown(\n",
    "    options=['Addition', 'Subtraction', 'Multiplication', 'Division', 'Logarithm', 'Factorial', 'Power of 2', 'Absolute Value', 'Natural Logarithm'],\n",
    "    description='Operation:',\n",
    "    style={'description_width': 'initial'},  # Ensure label width is adjusted\n",
    "    layout=widgets.Layout(width='60%'),\n",
    "    description_tooltip='Select a mathematical operation to perform'\n",
    ")\n",
    "\n",
    "number_input1 = widgets.FloatText(\n",
    "    description='Number 1:',\n",
    "    value=0.0,\n",
    "    style={'description_width': 'initial'},\n",
    "    layout=widgets.Layout(width='60%'),\n",
    "    description_tooltip='Enter the first number'\n",
    ")\n",
    "\n",
    "number_input2 = widgets.FloatText(\n",
    "    description='Number 2:',\n",
    "    value=0.0,\n",
    "    style={'description_width': 'initial'},\n",
    "    layout=widgets.Layout(width='60%'),\n",
    "    description_tooltip='Enter the second number'\n",
    ")\n",
    "\n",
    "result_output = widgets.Output()\n",
    "\n",
    "# Function to perform selected operation\n",
    "def perform_operation(shape, num1, num2=None):\n",
    "    if shape == \"Addition\":\n",
    "        return num1 + num2\n",
    "    elif shape == \"Subtraction\":\n",
    "        return num1 - num2\n",
    "    elif shape == \"Multiplication\":\n",
    "        return num1 * num2\n",
    "    elif shape == \"Division\":\n",
    "        return num1 / num2 if num2 != 0 else \"Cannot divide by zero\"\n",
    "    elif shape == \"Logarithm\":\n",
    "        return math.log(num1, num2)\n",
    "    elif shape == \"Factorial\":\n",
    "        return math.factorial(int(num1))\n",
    "    elif shape == \"Power of 2\":\n",
    "        return 2 ** num1\n",
    "    elif shape == \"Absolute Value\":\n",
    "        return abs(num1)\n",
    "    elif shape == \"Natural Logarithm\":\n",
    "        return math.log(num1)\n",
    "    else:\n",
    "        return \"Invalid operation\"\n",
    "\n",
    "# Function to handle button click\n",
    "def on_submit_button_clicked(b):\n",
    "    with result_output:\n",
    "        shape = operation_selector.value\n",
    "        num1 = number_input1.value\n",
    "        num2 = number_input2.value\n",
    "        result = perform_operation(shape, num1, num2)\n",
    "        print(f\"Result of {shape}: {result}\")\n",
    "\n",
    "# Create a colorful submit button with styling\n",
    "submit_button = widgets.Button(description=\"Submit\", \n",
    "                               button_style='info',  # Use 'info', 'success', 'warning', 'danger', 'primary' for button style\n",
    "                               layout=widgets.Layout(width='60%'),\n",
    "                               style={'font_weight': 'bold', 'font_size': '16px'})\n",
    "submit_button.on_click(on_submit_button_clicked)\n",
    "\n",
    "# Add CSS styling to make the layout more attractive\n",
    "css_style = \"\"\"\n",
    "    .widget-label { \n",
    "        font-size: 18px; \n",
    "        font-weight: bold; \n",
    "        color: #4CAF50;\n",
    "    }\n",
    "    .widget-dropdown, .widget-text, .widget-button {\n",
    "        background-color: #f0f8ff;\n",
    "        border: 2px solid #ccc;\n",
    "        border-radius: 5px;\n",
    "        font-size: 16px;\n",
    "    }\n",
    "    .widget-dropdown:focus, .widget-text:focus, .widget-button:focus {\n",
    "        border-color: #4CAF50;\n",
    "        box-shadow: 0 0 5px #4CAF50;\n",
    "    }\n",
    "    .output {\n",
    "        font-size: 18px;\n",
    "        color: #007BFF;\n",
    "        font-weight: bold;\n",
    "    }\n",
    "\"\"\"\n",
    "\n",
    "# Display the widgets with added CSS styles\n",
    "display(widgets.HTML(value=f\"<style>{css_style}</style>\"))  # Injecting the CSS into the notebook\n",
    "display(operation_selector, number_input1, number_input2, submit_button, result_output)\n"
   ]
  },
  {
   "cell_type": "code",
   "execution_count": null,
   "id": "19113b5f",
   "metadata": {},
   "outputs": [],
   "source": []
  }
 ],
 "metadata": {
  "kernelspec": {
   "display_name": "Python 3 (ipykernel)",
   "language": "python",
   "name": "python3"
  },
  "language_info": {
   "codemirror_mode": {
    "name": "ipython",
    "version": 3
   },
   "file_extension": ".py",
   "mimetype": "text/x-python",
   "name": "python",
   "nbconvert_exporter": "python",
   "pygments_lexer": "ipython3",
   "version": "3.9.7"
  }
 },
 "nbformat": 4,
 "nbformat_minor": 5
}
